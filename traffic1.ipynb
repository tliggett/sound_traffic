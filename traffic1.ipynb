{
 "cells": [
  {
   "cell_type": "code",
   "execution_count": 2,
   "metadata": {},
   "outputs": [],
   "source": [
    "# Import relevant packages\n",
    "import pandas as pd"
   ]
  },
  {
   "cell_type": "code",
   "execution_count": 4,
   "metadata": {},
   "outputs": [],
   "source": [
    "# read in data\n",
    "traffic_data = pd.read_csv(\"traffic_data.csv\")"
   ]
  },
  {
   "cell_type": "code",
   "execution_count": 5,
   "metadata": {},
   "outputs": [],
   "source": [
    "# look into traffic rates\n",
    "\n",
    "# rush hour rate: 8 percent of the daily traffic\n",
    "traffic_data['rush_hour_rate'] = traffic_data['Average daily traffic counts Year_2015'] * 0.08\n"
   ]
  },
  {
   "cell_type": "code",
   "execution_count": 6,
   "metadata": {},
   "outputs": [
    {
     "name": "stdout",
     "output_type": "stream",
     "text": [
      "     Route_ID  startMilepost  endMilepost  \\\n",
      "0           5         100.93       101.87   \n",
      "1           5         101.87       103.17   \n",
      "2           5         103.17       103.42   \n",
      "3           5         103.42       104.81   \n",
      "4           5         104.81       105.63   \n",
      "..        ...            ...          ...   \n",
      "219       520           9.60         9.72   \n",
      "220       520           9.72        11.35   \n",
      "221       520          11.35        12.05   \n",
      "222       520          12.05        12.38   \n",
      "223       520          12.38        12.83   \n",
      "\n",
      "     Average daily traffic counts Year_2015  \\\n",
      "0                                     65000   \n",
      "1                                     85000   \n",
      "2                                    108000   \n",
      "3                                    101000   \n",
      "4                                    144000   \n",
      "..                                      ...   \n",
      "219                                   95000   \n",
      "220                                   68000   \n",
      "221                                   91000   \n",
      "222                                   78000   \n",
      "223                                   37000   \n",
      "\n",
      "    RteType (IS= Interstate, SR= State Route)  \\\n",
      "0                                          IS   \n",
      "1                                          IS   \n",
      "2                                          IS   \n",
      "3                                          IS   \n",
      "4                                          IS   \n",
      "..                                        ...   \n",
      "219                                        SR   \n",
      "220                                        SR   \n",
      "221                                        SR   \n",
      "222                                        SR   \n",
      "223                                        SR   \n",
      "\n",
      "     Number of Lanes DECR MP direction   Number of Lanes INCR MP direction  \\\n",
      "0                                     3                                  3   \n",
      "1                                     3                                  3   \n",
      "2                                     3                                  3   \n",
      "3                                     3                                  3   \n",
      "4                                     3                                  4   \n",
      "..                                  ...                                ...   \n",
      "219                                   2                                  2   \n",
      "220                                   2                                  2   \n",
      "221                                   2                                  2   \n",
      "222                                   2                                  2   \n",
      "223                                   2                                  2   \n",
      "\n",
      "     Unnamed: 7              Comments  rush_hour_rate  \n",
      "0           NaN               Olympia          5200.0  \n",
      "1           NaN                   NaN          6800.0  \n",
      "2           NaN                   NaN          8640.0  \n",
      "3           NaN                   NaN          8080.0  \n",
      "4           NaN  Rte 101 intersection         11520.0  \n",
      "..          ...                   ...             ...  \n",
      "219         NaN                   NaN          7600.0  \n",
      "220         NaN                   NaN          5440.0  \n",
      "221         NaN                   NaN          7280.0  \n",
      "222         NaN                   NaN          6240.0  \n",
      "223         NaN    Terminus of SR 520          2960.0  \n",
      "\n",
      "[224 rows x 10 columns]\n"
     ]
    }
   ],
   "source": [
    "print(traffic_data)"
   ]
  },
  {
   "cell_type": "code",
   "execution_count": null,
   "metadata": {},
   "outputs": [],
   "source": []
  }
 ],
 "metadata": {
  "kernelspec": {
   "display_name": "Python 3",
   "language": "python",
   "name": "python3"
  },
  "language_info": {
   "codemirror_mode": {
    "name": "ipython",
    "version": 3
   },
   "file_extension": ".py",
   "mimetype": "text/x-python",
   "name": "python",
   "nbconvert_exporter": "python",
   "pygments_lexer": "ipython3",
   "version": "3.7.5"
  }
 },
 "nbformat": 4,
 "nbformat_minor": 4
}
